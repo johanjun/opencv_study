{
 "cells": [
  {
   "cell_type": "code",
   "execution_count": 1,
   "metadata": {},
   "outputs": [],
   "source": [
    "import sys\n",
    "import numpy as np\n",
    "import cv2"
   ]
  },
  {
   "cell_type": "code",
   "execution_count": 2,
   "metadata": {},
   "outputs": [],
   "source": [
    "src = cv2.imread('building.jpg', cv2.IMREAD_GRAYSCALE)"
   ]
  },
  {
   "cell_type": "code",
   "execution_count": 3,
   "metadata": {},
   "outputs": [],
   "source": [
    "if src is None:\n",
    "    print('Image load failed!')\n",
    "    sys.exit()"
   ]
  },
  {
   "cell_type": "code",
   "execution_count": 4,
   "metadata": {},
   "outputs": [
    {
     "name": "stdout",
     "output_type": "stream",
     "text": [
      "GFTT: 84.13588800000001ms.\n",
      "FAST: 9.75986ms.\n"
     ]
    }
   ],
   "source": [
    "#corners 검출 시간 측정\n",
    "tm = cv2.TickMeter()\n",
    "\n",
    "tm.start()\n",
    "\n",
    "corners = cv2.goodFeaturesToTrack(src, 400, 0.01, 10)\n",
    "\n",
    "tm.stop()\n",
    "print('GFTT: {}ms.'.format(tm.getTimeMilli()))\n",
    "\n",
    "dst1 = cv2.cvtColor(src, cv2.COLOR_GRAY2BGR)\n",
    "\n",
    "if corners is not None:\n",
    "    for i in range(corners.shape[0]):\n",
    "        pt = (int(corners[i, 0 , 0]), int(corners[i, 0, 1]))\n",
    "        cv2.circle(dst1, pt, 5, (0, 0, 255), 2)\n",
    "\n",
    "tm.reset()\n",
    "tm.start()\n",
    "\n",
    "fast = cv2.FastFeatureDetector_create(60)\n",
    "keypoints = fast.detect(src)\n",
    "\n",
    "tm.stop()\n",
    "print('FAST: {}ms.'.format(tm.getTimeMilli()))\n",
    "\n",
    "dst2 = cv2.cvtColor(src, cv2.COLOR_GRAY2BGR)\n",
    "\n",
    "for kp in keypoints:\n",
    "    pt = (int(kp.pt[0]), int(kp.pt[1]))\n",
    "    cv2.circle(dst2, pt, 5, (0, 0, 255), 2)\n",
    "    \n",
    "cv2.imshow('src', src)\n",
    "cv2.imshow('dst1', dst1)\n",
    "cv2.imshow('dst2', dst2)\n",
    "\n",
    "\n",
    "cv2.waitKey()\n",
    "\n",
    "cv2.destroyAllWindows()"
   ]
  },
  {
   "cell_type": "code",
   "execution_count": null,
   "metadata": {},
   "outputs": [],
   "source": []
  }
 ],
 "metadata": {
  "kernelspec": {
   "display_name": "Python 3",
   "language": "python",
   "name": "python3"
  },
  "language_info": {
   "codemirror_mode": {
    "name": "ipython",
    "version": 3
   },
   "file_extension": ".py",
   "mimetype": "text/x-python",
   "name": "python",
   "nbconvert_exporter": "python",
   "pygments_lexer": "ipython3",
   "version": "3.8.5"
  }
 },
 "nbformat": 4,
 "nbformat_minor": 4
}
